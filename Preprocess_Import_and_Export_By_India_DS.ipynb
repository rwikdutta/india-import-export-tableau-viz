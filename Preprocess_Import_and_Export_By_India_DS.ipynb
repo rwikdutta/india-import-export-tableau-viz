{
  "nbformat": 4,
  "nbformat_minor": 0,
  "metadata": {
    "colab": {
      "name": "Preprocess Import and Export By India DS",
      "version": "0.3.2",
      "provenance": [],
      "toc_visible": true
    },
    "kernelspec": {
      "name": "python3",
      "display_name": "Python 3"
    }
  },
  "cells": [
    {
      "metadata": {
        "id": "HcuhK1BtyY-K",
        "colab_type": "code",
        "colab": {
          "base_uri": "https://localhost:8080/",
          "height": 125
        },
        "outputId": "1c7bccf0-5565-48e4-b8d7-e93a7278117e"
      },
      "cell_type": "code",
      "source": [
        "!pip install pandas --upgrade\n",
        "import numpy as np\n",
        "import pandas as pd"
      ],
      "execution_count": 1,
      "outputs": [
        {
          "output_type": "stream",
          "text": [
            "Requirement already up-to-date: pandas in /usr/local/lib/python3.6/dist-packages (0.23.4)\n",
            "Requirement already satisfied, skipping upgrade: pytz>=2011k in /usr/local/lib/python3.6/dist-packages (from pandas) (2018.7)\n",
            "Requirement already satisfied, skipping upgrade: numpy>=1.9.0 in /usr/local/lib/python3.6/dist-packages (from pandas) (1.14.6)\n",
            "Requirement already satisfied, skipping upgrade: python-dateutil>=2.5.0 in /usr/local/lib/python3.6/dist-packages (from pandas) (2.5.3)\n",
            "Requirement already satisfied, skipping upgrade: six>=1.5 in /usr/local/lib/python3.6/dist-packages (from python-dateutil>=2.5.0->pandas) (1.11.0)\n"
          ],
          "name": "stdout"
        }
      ]
    },
    {
      "metadata": {
        "id": "zKeXpeBnFeU9",
        "colab_type": "text"
      },
      "cell_type": "markdown",
      "source": [
        "Make sure to upload the following files:\n",
        "- PC_Export_2014_2015.csv  \n",
        "- PC_Export_2017_2018.csv\n",
        "- PC_Import_2016_2017.csv\n",
        "- PC_Export_2015_2016.csv\n",
        "- PC_Import_2014_2015.csv \n",
        "- PC_Import_2017_2018.csv\n",
        "- PC_Export_2016_2017.csv \n",
        "- PC_Import_2015_2016.csv "
      ]
    },
    {
      "metadata": {
        "id": "9rymb90Wyf2W",
        "colab_type": "code",
        "colab": {
          "base_uri": "https://localhost:8080/",
          "height": 87
        },
        "outputId": "de17a45f-49c3-4234-85c8-a72c2141daeb"
      },
      "cell_type": "code",
      "source": [
        "#Make sure to upload the files\n",
        "!ls"
      ],
      "execution_count": 2,
      "outputs": [
        {
          "output_type": "stream",
          "text": [
            "joined_df.csv\t\t PC_Export_2017_2018.csv  PC_Import_2017_2018.csv\n",
            "PC_Export_2014_2015.csv  PC_Import_2014_2015.csv  processed_data_out_pd.csv\n",
            "PC_Export_2015_2016.csv  PC_Import_2015_2016.csv  sample_data\n",
            "PC_Export_2016_2017.csv  PC_Import_2016_2017.csv\n"
          ],
          "name": "stdout"
        }
      ]
    },
    {
      "metadata": {
        "id": "q3gaEkxby5Ml",
        "colab_type": "code",
        "colab": {}
      },
      "cell_type": "code",
      "source": [
        "years=['2014_2015','2015_2016','2016_2017','2017_2018']\n",
        "df_imp_exp={'export':'PC_Export_','import':'PC_Import_'}\n",
        "df_dict=dict()\n",
        "for key,value in df_imp_exp.items():\n",
        "  df_dict[key]=dict()\n",
        "  for year in years:\n",
        "    df_dict[key][year]=pd.read_csv('{}{}.csv'.format(value,year))  "
      ],
      "execution_count": 0,
      "outputs": []
    },
    {
      "metadata": {
        "id": "1lNm_imt-HeY",
        "colab_type": "code",
        "colab": {
          "base_uri": "https://localhost:8080/",
          "height": 265
        },
        "outputId": "655d92dc-4e11-4bab-bb8e-79d3d3c59beb"
      },
      "cell_type": "code",
      "source": [
        "df_dict['import']['2017_2018'].head(),df_dict['export']['2017_2018'].head()"
      ],
      "execution_count": 4,
      "outputs": [
        {
          "output_type": "execute_result",
          "data": {
            "text/plain": [
              "(  PC_DESC UNIT OF QTY    COUNTRY        QTY  VAL (MILL US $)\n",
              " 0     TEA         KGS  ARGENTINA  1617240.0             2.58\n",
              " 1     TEA         KGS  AUSTRALIA       45.0             0.00\n",
              " 2     TEA         KGS    AUSTRIA     1382.0             0.00\n",
              " 3     TEA         KGS    BELGIUM       77.0             0.00\n",
              " 4     TEA         KGS     CANADA      380.0             0.02,\n",
              "   COMMODITY UNIT_CODE          ...                QTY  VALUES (US$ million)\n",
              " 0       TEA       KGS          ...           996994.0                  2.88\n",
              " 1       TEA       KGS          ...           250065.0                  0.82\n",
              " 2       TEA       KGS          ...           109640.0                  0.21\n",
              " 3       TEA       KGS          ...            32692.0                  0.15\n",
              " 4       TEA       KGS          ...            11361.0                  0.07\n",
              " \n",
              " [5 rows x 5 columns])"
            ]
          },
          "metadata": {
            "tags": []
          },
          "execution_count": 4
        }
      ]
    },
    {
      "metadata": {
        "id": "rbwyfjJV9jxY",
        "colab_type": "code",
        "colab": {
          "base_uri": "https://localhost:8080/",
          "height": 158
        },
        "outputId": "e89741ab-f3e5-4b47-d41d-799a079132af"
      },
      "cell_type": "code",
      "source": [
        "df_dict['import']['2016_2017'].columns,df_dict['export']['2016_2017'].columns,df_dict['import']['2017_2018'].columns,df_dict['export']['2017_2018'].columns"
      ],
      "execution_count": 5,
      "outputs": [
        {
          "output_type": "execute_result",
          "data": {
            "text/plain": [
              "(Index(['pc_code', 'pc_description', 'unit', 'country_code', 'country_name',\n",
              "        'quantity', 'value'],\n",
              "       dtype='object'),\n",
              " Index(['pc_code', 'pc_description', 'unit', 'country_code', 'country_name',\n",
              "        'quantity', 'value'],\n",
              "       dtype='object'),\n",
              " Index(['PC_DESC', 'UNIT OF QTY', 'COUNTRY', 'QTY', 'VAL (MILL US $)'], dtype='object'),\n",
              " Index(['COMMODITY', 'UNIT_CODE', 'COUNTRY', 'QTY', 'VALUES (US$ million)'], dtype='object'))"
            ]
          },
          "metadata": {
            "tags": []
          },
          "execution_count": 5
        }
      ]
    },
    {
      "metadata": {
        "id": "0VLKitRR9aHO",
        "colab_type": "code",
        "colab": {
          "base_uri": "https://localhost:8080/",
          "height": 52
        },
        "outputId": "27a26142-333b-4acb-8f67-0c7916d0f2fc"
      },
      "cell_type": "code",
      "source": [
        "cols_rename_2017_2018={'export':{'COMMODITY':'pc_description','UNIT_CODE':'unit','COUNTRY':'country_name',\n",
        "               'QTY':'quantity','VALUES (US$ million)':'value'},'import':{'PC_DESC':'pc_description',\n",
        "              'UNIT OF QTY':'unit','COUNTRY':'country_name','QTY':'quantity','VAL (MILL US $)':'value'}}\n",
        "for key,col_rename in cols_rename_2017_2018.items():\n",
        "  df_dict[key]['2017_2018']=df_dict[key]['2017_2018'].rename(columns=col_rename)\n",
        "df_dict['import']['2017_2018'].columns,df_dict['export']['2017_2018'].columns"
      ],
      "execution_count": 6,
      "outputs": [
        {
          "output_type": "execute_result",
          "data": {
            "text/plain": [
              "(Index(['pc_description', 'unit', 'country_name', 'quantity', 'value'], dtype='object'),\n",
              " Index(['pc_description', 'unit', 'country_name', 'quantity', 'value'], dtype='object'))"
            ]
          },
          "metadata": {
            "tags": []
          },
          "execution_count": 6
        }
      ]
    },
    {
      "metadata": {
        "id": "mGyjwNOxCfSy",
        "colab_type": "code",
        "colab": {
          "base_uri": "https://localhost:8080/",
          "height": 158
        },
        "outputId": "39afc943-3f66-4e1a-cd00-0f598f1862db"
      },
      "cell_type": "code",
      "source": [
        "df_dict['import']['2016_2017'].columns,df_dict['export']['2016_2017'].columns,df_dict['import']['2017_2018'].columns,df_dict['export']['2017_2018'].columns"
      ],
      "execution_count": 7,
      "outputs": [
        {
          "output_type": "execute_result",
          "data": {
            "text/plain": [
              "(Index(['pc_code', 'pc_description', 'unit', 'country_code', 'country_name',\n",
              "        'quantity', 'value'],\n",
              "       dtype='object'),\n",
              " Index(['pc_code', 'pc_description', 'unit', 'country_code', 'country_name',\n",
              "        'quantity', 'value'],\n",
              "       dtype='object'),\n",
              " Index(['pc_description', 'unit', 'country_name', 'quantity', 'value'], dtype='object'),\n",
              " Index(['pc_description', 'unit', 'country_name', 'quantity', 'value'], dtype='object'))"
            ]
          },
          "metadata": {
            "tags": []
          },
          "execution_count": 7
        }
      ]
    },
    {
      "metadata": {
        "id": "Twd3vv6b6MQC",
        "colab_type": "code",
        "colab": {}
      },
      "cell_type": "code",
      "source": [
        "#adding type and year as columns\n",
        "for key,value in df_imp_exp.items():\n",
        "  for year in years:\n",
        "    df_dict[key][year]['type']=key\n",
        "    df_dict[key][year]['year']=year\n",
        "    df_dict[key][year]=df_dict[key][year].applymap(lambda x:x.lower() if type(x) is str else x)"
      ],
      "execution_count": 0,
      "outputs": []
    },
    {
      "metadata": {
        "id": "-ZlAAulL7GOa",
        "colab_type": "code",
        "colab": {
          "base_uri": "https://localhost:8080/",
          "height": 34
        },
        "outputId": "6c6d7e34-f34b-4f6f-fc2f-b172740cd663"
      },
      "cell_type": "code",
      "source": [
        "#Checking whether the pc_description of 2017_2018 matches with those of other years\n",
        "df_dict['import']['2017_2018'].pc_description.isin(df_dict['import']['2016_2017'].pc_description).sum()/df_dict['import']['2017_2018'].shape[0],df_dict['export']['2017_2018'].pc_description.isin(df_dict['export']['2016_2017'].pc_description).sum()/df_dict['export']['2017_2018'].shape[0]"
      ],
      "execution_count": 9,
      "outputs": [
        {
          "output_type": "execute_result",
          "data": {
            "text/plain": [
              "(1.0, 0.9999536629442565)"
            ]
          },
          "metadata": {
            "tags": []
          },
          "execution_count": 9
        }
      ]
    },
    {
      "metadata": {
        "id": "KFulbanzCC7L",
        "colab_type": "code",
        "colab": {
          "base_uri": "https://localhost:8080/",
          "height": 70
        },
        "outputId": "75a06c8f-80a9-4f1c-abc9-12da9fa33d11"
      },
      "cell_type": "code",
      "source": [
        "#Deleting these 2 columns since they are not present in 2017_2018 df and they both dont add any extra info anyways\n",
        "cols_to_remove=['pc_code','country_code']\n",
        "mod_years=[year for year in years if year!='2017_2018']\n",
        "for key in df_imp_exp.keys():\n",
        "  for year in mod_years:\n",
        "    df_dict[key][year]=df_dict[key][year].drop(cols_to_remove,axis=1)\n",
        "df_dict['import']['2016_2017'].columns"
      ],
      "execution_count": 10,
      "outputs": [
        {
          "output_type": "execute_result",
          "data": {
            "text/plain": [
              "Index(['pc_description', 'unit', 'country_name', 'quantity', 'value', 'type',\n",
              "       'year'],\n",
              "      dtype='object')"
            ]
          },
          "metadata": {
            "tags": []
          },
          "execution_count": 10
        }
      ]
    },
    {
      "metadata": {
        "id": "DBUk2NwpDd9u",
        "colab_type": "code",
        "colab": {}
      },
      "cell_type": "code",
      "source": [
        "#Sanity Check...checking whether the columns for all the individual dfs are the same\n",
        "cols=list(df_dict['import']['2016_2017'].columns)\n",
        "for key in df_imp_exp.keys():\n",
        "  for year in years:\n",
        "    assert list(df_dict[key][year].columns)==cols,\"Check df_dict[{}][{}]\".format(key,year)"
      ],
      "execution_count": 0,
      "outputs": []
    },
    {
      "metadata": {
        "id": "JuUXYTuwGCUO",
        "colab_type": "code",
        "colab": {
          "base_uri": "https://localhost:8080/",
          "height": 158
        },
        "outputId": "2ada1f7c-3355-40a4-d835-005cde7ce21e"
      },
      "cell_type": "code",
      "source": [
        "dfs_list=[]\n",
        "for key in df_imp_exp.keys():\n",
        "  for year in years:\n",
        "    dfs_list.append(df_dict[key][year])\n",
        "joined_df=pd.concat(dfs_list,ignore_index=True)\n",
        "joined_df.shape,joined_df.head()"
      ],
      "execution_count": 12,
      "outputs": [
        {
          "output_type": "execute_result",
          "data": {
            "text/plain": [
              "((122939, 7),       pc_description unit    ...        type       year\n",
              " 0  other commodities   na    ...      export  2014_2015\n",
              " 1  other commodities   na    ...      export  2014_2015\n",
              " 2  other commodities   na    ...      export  2014_2015\n",
              " 3  other commodities   na    ...      export  2014_2015\n",
              " 4  other commodities   na    ...      export  2014_2015\n",
              " \n",
              " [5 rows x 7 columns])"
            ]
          },
          "metadata": {
            "tags": []
          },
          "execution_count": 12
        }
      ]
    },
    {
      "metadata": {
        "id": "eod_GHOZYYGz",
        "colab_type": "code",
        "colab": {
          "base_uri": "https://localhost:8080/",
          "height": 34
        },
        "outputId": "20a7cb2e-29e8-43e9-f741-48c920c35f92"
      },
      "cell_type": "code",
      "source": [
        "(joined_df.loc[(joined_df.country_name=='unspecified')&(joined_df.type=='export'),'value'].sum(),\n",
        " joined_df.loc[(joined_df.country_name=='unspecified')&(joined_df.type=='import'),'value'].sum(),\n",
        " joined_df.loc[(joined_df.country_name=='unspecified')&(joined_df.type=='export'),'value'].sum()/joined_df.loc[joined_df.type=='export','value'].sum(),\n",
        " joined_df.loc[(joined_df.country_name=='unspecified')&(joined_df.type=='import'),'value'].sum()/joined_df.loc[joined_df.type=='import','value'].sum())"
      ],
      "execution_count": 13,
      "outputs": [
        {
          "output_type": "execute_result",
          "data": {
            "text/plain": [
              "(11374.543572999999, 32985.857874, 0.007810923060833724, 0.01966533343392377)"
            ]
          },
          "metadata": {
            "tags": []
          },
          "execution_count": 13
        }
      ]
    },
    {
      "metadata": {
        "id": "aEXTS0bGQeOY",
        "colab_type": "code",
        "colab": {
          "base_uri": "https://localhost:8080/",
          "height": 52
        },
        "outputId": "5509a5c2-81d4-45ea-c42f-33f8f6db293b"
      },
      "cell_type": "code",
      "source": [
        "print(joined_df.shape[0])\n",
        "joined_df=joined_df.dropna(subset=['country_name'])\n",
        "joined_df=joined_df.loc[joined_df.country_name!='unspecified',:] #This is because as shown above the percentage of transactions\n",
        "#where country is unspecified is very small and because we need to show it on a map its better to remove it for demo purposes\n",
        "print(joined_df.shape[0])"
      ],
      "execution_count": 14,
      "outputs": [
        {
          "output_type": "stream",
          "text": [
            "122939\n",
            "122122\n"
          ],
          "name": "stdout"
        }
      ]
    },
    {
      "metadata": {
        "id": "hFSZk4DyGsdy",
        "colab_type": "code",
        "colab": {
          "base_uri": "https://localhost:8080/",
          "height": 377
        },
        "outputId": "02ccdb36-6843-48be-af6e-b2da03c058c4"
      },
      "cell_type": "code",
      "source": [
        "joined_df.describe(include='all')"
      ],
      "execution_count": 15,
      "outputs": [
        {
          "output_type": "execute_result",
          "data": {
            "text/html": [
              "<div>\n",
              "<style scoped>\n",
              "    .dataframe tbody tr th:only-of-type {\n",
              "        vertical-align: middle;\n",
              "    }\n",
              "\n",
              "    .dataframe tbody tr th {\n",
              "        vertical-align: top;\n",
              "    }\n",
              "\n",
              "    .dataframe thead th {\n",
              "        text-align: right;\n",
              "    }\n",
              "</style>\n",
              "<table border=\"1\" class=\"dataframe\">\n",
              "  <thead>\n",
              "    <tr style=\"text-align: right;\">\n",
              "      <th></th>\n",
              "      <th>pc_description</th>\n",
              "      <th>unit</th>\n",
              "      <th>country_name</th>\n",
              "      <th>quantity</th>\n",
              "      <th>value</th>\n",
              "      <th>type</th>\n",
              "      <th>year</th>\n",
              "    </tr>\n",
              "  </thead>\n",
              "  <tbody>\n",
              "    <tr>\n",
              "      <th>count</th>\n",
              "      <td>122122</td>\n",
              "      <td>116508</td>\n",
              "      <td>122122</td>\n",
              "      <td>5.688900e+04</td>\n",
              "      <td>122122.000000</td>\n",
              "      <td>122122</td>\n",
              "      <td>122122</td>\n",
              "    </tr>\n",
              "    <tr>\n",
              "      <th>unique</th>\n",
              "      <td>169</td>\n",
              "      <td>7</td>\n",
              "      <td>246</td>\n",
              "      <td>NaN</td>\n",
              "      <td>NaN</td>\n",
              "      <td>2</td>\n",
              "      <td>4</td>\n",
              "    </tr>\n",
              "    <tr>\n",
              "      <th>top</th>\n",
              "      <td>other commodities</td>\n",
              "      <td>na</td>\n",
              "      <td>u s a</td>\n",
              "      <td>NaN</td>\n",
              "      <td>NaN</td>\n",
              "      <td>export</td>\n",
              "      <td>2017_2018</td>\n",
              "    </tr>\n",
              "    <tr>\n",
              "      <th>freq</th>\n",
              "      <td>1541</td>\n",
              "      <td>48175</td>\n",
              "      <td>1250</td>\n",
              "      <td>NaN</td>\n",
              "      <td>NaN</td>\n",
              "      <td>83664</td>\n",
              "      <td>31302</td>\n",
              "    </tr>\n",
              "    <tr>\n",
              "      <th>mean</th>\n",
              "      <td>NaN</td>\n",
              "      <td>NaN</td>\n",
              "      <td>NaN</td>\n",
              "      <td>5.374857e+06</td>\n",
              "      <td>22.810899</td>\n",
              "      <td>NaN</td>\n",
              "      <td>NaN</td>\n",
              "    </tr>\n",
              "    <tr>\n",
              "      <th>std</th>\n",
              "      <td>NaN</td>\n",
              "      <td>NaN</td>\n",
              "      <td>NaN</td>\n",
              "      <td>7.506464e+07</td>\n",
              "      <td>262.854773</td>\n",
              "      <td>NaN</td>\n",
              "      <td>NaN</td>\n",
              "    </tr>\n",
              "    <tr>\n",
              "      <th>min</th>\n",
              "      <td>NaN</td>\n",
              "      <td>NaN</td>\n",
              "      <td>NaN</td>\n",
              "      <td>0.000000e+00</td>\n",
              "      <td>0.000000</td>\n",
              "      <td>NaN</td>\n",
              "      <td>NaN</td>\n",
              "    </tr>\n",
              "    <tr>\n",
              "      <th>25%</th>\n",
              "      <td>NaN</td>\n",
              "      <td>NaN</td>\n",
              "      <td>NaN</td>\n",
              "      <td>1.450000e+02</td>\n",
              "      <td>0.022087</td>\n",
              "      <td>NaN</td>\n",
              "      <td>NaN</td>\n",
              "    </tr>\n",
              "    <tr>\n",
              "      <th>50%</th>\n",
              "      <td>NaN</td>\n",
              "      <td>NaN</td>\n",
              "      <td>NaN</td>\n",
              "      <td>5.672000e+03</td>\n",
              "      <td>0.304389</td>\n",
              "      <td>NaN</td>\n",
              "      <td>NaN</td>\n",
              "    </tr>\n",
              "    <tr>\n",
              "      <th>75%</th>\n",
              "      <td>NaN</td>\n",
              "      <td>NaN</td>\n",
              "      <td>NaN</td>\n",
              "      <td>1.682240e+05</td>\n",
              "      <td>3.260038</td>\n",
              "      <td>NaN</td>\n",
              "      <td>NaN</td>\n",
              "    </tr>\n",
              "    <tr>\n",
              "      <th>max</th>\n",
              "      <td>NaN</td>\n",
              "      <td>NaN</td>\n",
              "      <td>NaN</td>\n",
              "      <td>5.912638e+09</td>\n",
              "      <td>21803.395420</td>\n",
              "      <td>NaN</td>\n",
              "      <td>NaN</td>\n",
              "    </tr>\n",
              "  </tbody>\n",
              "</table>\n",
              "</div>"
            ],
            "text/plain": [
              "           pc_description    unit    ...        type       year\n",
              "count              122122  116508    ...      122122     122122\n",
              "unique                169       7    ...           2          4\n",
              "top     other commodities      na    ...      export  2017_2018\n",
              "freq                 1541   48175    ...       83664      31302\n",
              "mean                  NaN     NaN    ...         NaN        NaN\n",
              "std                   NaN     NaN    ...         NaN        NaN\n",
              "min                   NaN     NaN    ...         NaN        NaN\n",
              "25%                   NaN     NaN    ...         NaN        NaN\n",
              "50%                   NaN     NaN    ...         NaN        NaN\n",
              "75%                   NaN     NaN    ...         NaN        NaN\n",
              "max                   NaN     NaN    ...         NaN        NaN\n",
              "\n",
              "[11 rows x 7 columns]"
            ]
          },
          "metadata": {
            "tags": []
          },
          "execution_count": 15
        }
      ]
    },
    {
      "metadata": {
        "id": "9gRRPMVpG2zO",
        "colab_type": "code",
        "colab": {
          "base_uri": "https://localhost:8080/",
          "height": 52
        },
        "outputId": "0583241b-b5a3-4e04-f151-c71dcdeb6db5"
      },
      "cell_type": "code",
      "source": [
        "joined_df.groupby(['pc_description','country_name','year','type']).agg('count')['value'].value_counts()"
      ],
      "execution_count": 16,
      "outputs": [
        {
          "output_type": "execute_result",
          "data": {
            "text/plain": [
              "1    122122\n",
              "Name: value, dtype: int64"
            ]
          },
          "metadata": {
            "tags": []
          },
          "execution_count": 16
        }
      ]
    },
    {
      "metadata": {
        "id": "BIsXQtcqKR5e",
        "colab_type": "code",
        "colab": {
          "base_uri": "https://localhost:8080/",
          "height": 212
        },
        "outputId": "2369dac1-8c17-495d-d50f-b60bd450c4e2"
      },
      "cell_type": "code",
      "source": [
        "joined_df_2=joined_df\n",
        "#Since pivot method is not accepting multiple values for index\n",
        "joined_df_2['index_2']=joined_df_2.apply(lambda x:\"{}_{}_{}\".format(x['pc_description'],x['country_name'],x['year']),axis=1)\n",
        "joined_df_2.columns,joined_df_2.head()"
      ],
      "execution_count": 17,
      "outputs": [
        {
          "output_type": "execute_result",
          "data": {
            "text/plain": [
              "(Index(['pc_description', 'unit', 'country_name', 'quantity', 'value', 'type',\n",
              "        'year', 'index_2'],\n",
              "       dtype='object'),\n",
              "       pc_description                    ...                                                      index_2\n",
              " 1  other commodities                    ...                            other commodities_kenya_2014_2015\n",
              " 2  other commodities                    ...                     other commodities_tanzania rep_2014_2015\n",
              " 3  other commodities                    ...                           other commodities_uganda_2014_2015\n",
              " 4  other commodities                    ...                            other commodities_benin_2014_2015\n",
              " 5  other commodities                    ...                     other commodities_burkina faso_2014_2015\n",
              " \n",
              " [5 rows x 8 columns])"
            ]
          },
          "metadata": {
            "tags": []
          },
          "execution_count": 17
        }
      ]
    },
    {
      "metadata": {
        "id": "x1yBgOj6LGmr",
        "colab_type": "code",
        "colab": {
          "base_uri": "https://localhost:8080/",
          "height": 158
        },
        "outputId": "17dabca2-195a-46f8-8696-c38fcc6f6a3f"
      },
      "cell_type": "code",
      "source": [
        "joined_df_imp_exp_pivot=joined_df_2.pivot(index='index_2',columns='type',values='value')\n",
        "joined_df_imp_exp_pivot=joined_df_imp_exp_pivot.fillna(0)\n",
        "joined_df_imp_exp_pivot.head(),joined_df_imp_exp_pivot.shape"
      ],
      "execution_count": 18,
      "outputs": [
        {
          "output_type": "execute_result",
          "data": {
            "text/plain": [
              "(type                                                  export  import\n",
              " index_2                                                             \n",
              " ac, refrigeration machnry etc_afghanistan_2014_...  1.016735     0.0\n",
              " ac, refrigeration machnry etc_afghanistan_2015_...  1.868763     0.0\n",
              " ac, refrigeration machnry etc_afghanistan_2016_...  0.450290     0.0\n",
              " ac, refrigeration machnry etc_afghanistan_2017_...  0.520000     0.0\n",
              " ac, refrigeration machnry etc_albania_2014_2015     0.025633     0.0,\n",
              " (88308, 2))"
            ]
          },
          "metadata": {
            "tags": []
          },
          "execution_count": 18
        }
      ]
    },
    {
      "metadata": {
        "id": "whwyXplLH4EH",
        "colab_type": "code",
        "colab": {
          "base_uri": "https://localhost:8080/",
          "height": 194
        },
        "outputId": "dc3a3ad1-31fa-4bc1-debd-b10305dfbcbf"
      },
      "cell_type": "code",
      "source": [
        "print(joined_df_2.shape[0])\n",
        "joined_df_3=joined_df_2.groupby('index_2').first()\n",
        "joined_df_3.head(),joined_df_3.shape"
      ],
      "execution_count": 19,
      "outputs": [
        {
          "output_type": "stream",
          "text": [
            "122122\n"
          ],
          "name": "stdout"
        },
        {
          "output_type": "execute_result",
          "data": {
            "text/plain": [
              "(                                                                   pc_description    ...           year\n",
              " index_2                                                                              ...               \n",
              " ac, refrigeration machnry etc_afghanistan_2014_...  ac, refrigeration machnry etc    ...      2014_2015\n",
              " ac, refrigeration machnry etc_afghanistan_2015_...  ac, refrigeration machnry etc    ...      2015_2016\n",
              " ac, refrigeration machnry etc_afghanistan_2016_...  ac, refrigeration machnry etc    ...      2016_2017\n",
              " ac, refrigeration machnry etc_afghanistan_2017_...  ac, refrigeration machnry etc    ...      2017_2018\n",
              " ac, refrigeration machnry etc_albania_2014_2015     ac, refrigeration machnry etc    ...      2014_2015\n",
              " \n",
              " [5 rows x 7 columns], (88308, 7))"
            ]
          },
          "metadata": {
            "tags": []
          },
          "execution_count": 19
        }
      ]
    },
    {
      "metadata": {
        "id": "i2UyFVoSOoC5",
        "colab_type": "code",
        "colab": {
          "base_uri": "https://localhost:8080/",
          "height": 425
        },
        "outputId": "ff138a50-01e2-44d4-949b-12b2ce1f02d3"
      },
      "cell_type": "code",
      "source": [
        "joined_df_4=joined_df_3.join(joined_df_imp_exp_pivot,how='inner')\n",
        "joined_df_4.shape,joined_df_4.head(),joined_df_4.columns,joined_df_4.isnull().sum()"
      ],
      "execution_count": 20,
      "outputs": [
        {
          "output_type": "execute_result",
          "data": {
            "text/plain": [
              "((88308, 9),\n",
              "                                                                    pc_description  ...   import\n",
              " index_2                                                                            ...         \n",
              " ac, refrigeration machnry etc_afghanistan_2014_...  ac, refrigeration machnry etc  ...      0.0\n",
              " ac, refrigeration machnry etc_afghanistan_2015_...  ac, refrigeration machnry etc  ...      0.0\n",
              " ac, refrigeration machnry etc_afghanistan_2016_...  ac, refrigeration machnry etc  ...      0.0\n",
              " ac, refrigeration machnry etc_afghanistan_2017_...  ac, refrigeration machnry etc  ...      0.0\n",
              " ac, refrigeration machnry etc_albania_2014_2015     ac, refrigeration machnry etc  ...      0.0\n",
              " \n",
              " [5 rows x 9 columns],\n",
              " Index(['pc_description', 'unit', 'country_name', 'quantity', 'value', 'type',\n",
              "        'year', 'export', 'import'],\n",
              "       dtype='object'),\n",
              " pc_description        0\n",
              " unit                425\n",
              " country_name          0\n",
              " quantity          45481\n",
              " value                 0\n",
              " type                  0\n",
              " year                  0\n",
              " export                0\n",
              " import                0\n",
              " dtype: int64)"
            ]
          },
          "metadata": {
            "tags": []
          },
          "execution_count": 20
        }
      ]
    },
    {
      "metadata": {
        "id": "3mgRYUs8S480",
        "colab_type": "code",
        "colab": {}
      },
      "cell_type": "code",
      "source": [
        "joined_df_4.unit=joined_df_4.unit.fillna('NA')\n",
        "joined_df_4.quantity=joined_df_4.quantity.fillna('NA')"
      ],
      "execution_count": 0,
      "outputs": []
    },
    {
      "metadata": {
        "id": "zG1N92bOQFwd",
        "colab_type": "code",
        "colab": {
          "base_uri": "https://localhost:8080/",
          "height": 247
        },
        "outputId": "1b4700f2-36ad-46c0-cc75-daaa461cbf26"
      },
      "cell_type": "code",
      "source": [
        "joined_df_4=joined_df_4.drop(columns=['value']).rename(columns={'import':'import_amt','export':'export_amt'})\n",
        "joined_df_4.columns,joined_df_4.shape,joined_df_4.head()"
      ],
      "execution_count": 22,
      "outputs": [
        {
          "output_type": "execute_result",
          "data": {
            "text/plain": [
              "(Index(['pc_description', 'unit', 'country_name', 'quantity', 'type', 'year',\n",
              "        'export_amt', 'import_amt'],\n",
              "       dtype='object'),\n",
              " (88308, 8),\n",
              "                                                                    pc_description    ...     import_amt\n",
              " index_2                                                                              ...               \n",
              " ac, refrigeration machnry etc_afghanistan_2014_...  ac, refrigeration machnry etc    ...            0.0\n",
              " ac, refrigeration machnry etc_afghanistan_2015_...  ac, refrigeration machnry etc    ...            0.0\n",
              " ac, refrigeration machnry etc_afghanistan_2016_...  ac, refrigeration machnry etc    ...            0.0\n",
              " ac, refrigeration machnry etc_afghanistan_2017_...  ac, refrigeration machnry etc    ...            0.0\n",
              " ac, refrigeration machnry etc_albania_2014_2015     ac, refrigeration machnry etc    ...            0.0\n",
              " \n",
              " [5 rows x 8 columns])"
            ]
          },
          "metadata": {
            "tags": []
          },
          "execution_count": 22
        }
      ]
    },
    {
      "metadata": {
        "id": "icEOxiDtRqIu",
        "colab_type": "code",
        "colab": {
          "base_uri": "https://localhost:8080/",
          "height": 377
        },
        "outputId": "dfed0635-9967-4ca8-8353-12508a505bbf"
      },
      "cell_type": "code",
      "source": [
        "joined_df_4.describe(include='all')"
      ],
      "execution_count": 23,
      "outputs": [
        {
          "output_type": "execute_result",
          "data": {
            "text/html": [
              "<div>\n",
              "<style scoped>\n",
              "    .dataframe tbody tr th:only-of-type {\n",
              "        vertical-align: middle;\n",
              "    }\n",
              "\n",
              "    .dataframe tbody tr th {\n",
              "        vertical-align: top;\n",
              "    }\n",
              "\n",
              "    .dataframe thead th {\n",
              "        text-align: right;\n",
              "    }\n",
              "</style>\n",
              "<table border=\"1\" class=\"dataframe\">\n",
              "  <thead>\n",
              "    <tr style=\"text-align: right;\">\n",
              "      <th></th>\n",
              "      <th>pc_description</th>\n",
              "      <th>unit</th>\n",
              "      <th>country_name</th>\n",
              "      <th>quantity</th>\n",
              "      <th>type</th>\n",
              "      <th>year</th>\n",
              "      <th>export_amt</th>\n",
              "      <th>import_amt</th>\n",
              "    </tr>\n",
              "  </thead>\n",
              "  <tbody>\n",
              "    <tr>\n",
              "      <th>count</th>\n",
              "      <td>88308</td>\n",
              "      <td>88308</td>\n",
              "      <td>88308</td>\n",
              "      <td>88308</td>\n",
              "      <td>88308</td>\n",
              "      <td>88308</td>\n",
              "      <td>88308.000000</td>\n",
              "      <td>88308.000000</td>\n",
              "    </tr>\n",
              "    <tr>\n",
              "      <th>unique</th>\n",
              "      <td>169</td>\n",
              "      <td>8</td>\n",
              "      <td>246</td>\n",
              "      <td>23190</td>\n",
              "      <td>2</td>\n",
              "      <td>4</td>\n",
              "      <td>NaN</td>\n",
              "      <td>NaN</td>\n",
              "    </tr>\n",
              "    <tr>\n",
              "      <th>top</th>\n",
              "      <td>other commodities</td>\n",
              "      <td>na</td>\n",
              "      <td>u s a</td>\n",
              "      <td>NA</td>\n",
              "      <td>export</td>\n",
              "      <td>2017_2018</td>\n",
              "      <td>NaN</td>\n",
              "      <td>NaN</td>\n",
              "    </tr>\n",
              "    <tr>\n",
              "      <th>freq</th>\n",
              "      <td>855</td>\n",
              "      <td>33615</td>\n",
              "      <td>660</td>\n",
              "      <td>45481</td>\n",
              "      <td>83664</td>\n",
              "      <td>22655</td>\n",
              "      <td>NaN</td>\n",
              "      <td>NaN</td>\n",
              "    </tr>\n",
              "    <tr>\n",
              "      <th>mean</th>\n",
              "      <td>NaN</td>\n",
              "      <td>NaN</td>\n",
              "      <td>NaN</td>\n",
              "      <td>NaN</td>\n",
              "      <td>NaN</td>\n",
              "      <td>NaN</td>\n",
              "      <td>12.924512</td>\n",
              "      <td>18.620905</td>\n",
              "    </tr>\n",
              "    <tr>\n",
              "      <th>std</th>\n",
              "      <td>NaN</td>\n",
              "      <td>NaN</td>\n",
              "      <td>NaN</td>\n",
              "      <td>NaN</td>\n",
              "      <td>NaN</td>\n",
              "      <td>NaN</td>\n",
              "      <td>133.467547</td>\n",
              "      <td>279.179856</td>\n",
              "    </tr>\n",
              "    <tr>\n",
              "      <th>min</th>\n",
              "      <td>NaN</td>\n",
              "      <td>NaN</td>\n",
              "      <td>NaN</td>\n",
              "      <td>NaN</td>\n",
              "      <td>NaN</td>\n",
              "      <td>NaN</td>\n",
              "      <td>0.000000</td>\n",
              "      <td>0.000000</td>\n",
              "    </tr>\n",
              "    <tr>\n",
              "      <th>25%</th>\n",
              "      <td>NaN</td>\n",
              "      <td>NaN</td>\n",
              "      <td>NaN</td>\n",
              "      <td>NaN</td>\n",
              "      <td>NaN</td>\n",
              "      <td>NaN</td>\n",
              "      <td>0.014359</td>\n",
              "      <td>0.000000</td>\n",
              "    </tr>\n",
              "    <tr>\n",
              "      <th>50%</th>\n",
              "      <td>NaN</td>\n",
              "      <td>NaN</td>\n",
              "      <td>NaN</td>\n",
              "      <td>NaN</td>\n",
              "      <td>NaN</td>\n",
              "      <td>NaN</td>\n",
              "      <td>0.240000</td>\n",
              "      <td>0.000000</td>\n",
              "    </tr>\n",
              "    <tr>\n",
              "      <th>75%</th>\n",
              "      <td>NaN</td>\n",
              "      <td>NaN</td>\n",
              "      <td>NaN</td>\n",
              "      <td>NaN</td>\n",
              "      <td>NaN</td>\n",
              "      <td>NaN</td>\n",
              "      <td>2.503317</td>\n",
              "      <td>0.135696</td>\n",
              "    </tr>\n",
              "    <tr>\n",
              "      <th>max</th>\n",
              "      <td>NaN</td>\n",
              "      <td>NaN</td>\n",
              "      <td>NaN</td>\n",
              "      <td>NaN</td>\n",
              "      <td>NaN</td>\n",
              "      <td>NaN</td>\n",
              "      <td>10290.780000</td>\n",
              "      <td>21803.395420</td>\n",
              "    </tr>\n",
              "  </tbody>\n",
              "</table>\n",
              "</div>"
            ],
            "text/plain": [
              "           pc_description   unit      ...         export_amt    import_amt\n",
              "count               88308  88308      ...       88308.000000  88308.000000\n",
              "unique                169      8      ...                NaN           NaN\n",
              "top     other commodities     na      ...                NaN           NaN\n",
              "freq                  855  33615      ...                NaN           NaN\n",
              "mean                  NaN    NaN      ...          12.924512     18.620905\n",
              "std                   NaN    NaN      ...         133.467547    279.179856\n",
              "min                   NaN    NaN      ...           0.000000      0.000000\n",
              "25%                   NaN    NaN      ...           0.014359      0.000000\n",
              "50%                   NaN    NaN      ...           0.240000      0.000000\n",
              "75%                   NaN    NaN      ...           2.503317      0.135696\n",
              "max                   NaN    NaN      ...       10290.780000  21803.395420\n",
              "\n",
              "[11 rows x 8 columns]"
            ]
          },
          "metadata": {
            "tags": []
          },
          "execution_count": 23
        }
      ]
    },
    {
      "metadata": {
        "id": "1jVWwmBNR5Oc",
        "colab_type": "code",
        "colab": {}
      },
      "cell_type": "code",
      "source": [
        "joined_df_4.to_csv('processed_data_out_pd.csv',index=False)"
      ],
      "execution_count": 0,
      "outputs": []
    },
    {
      "metadata": {
        "id": "4xUu-5GSSGgE",
        "colab_type": "code",
        "colab": {}
      },
      "cell_type": "code",
      "source": [
        "from google.colab import files\n",
        "\n",
        "files.download('processed_data_out_pd.csv')"
      ],
      "execution_count": 0,
      "outputs": []
    },
    {
      "metadata": {
        "id": "KKfxm9GOSXKK",
        "colab_type": "code",
        "colab": {}
      },
      "cell_type": "code",
      "source": [
        ""
      ],
      "execution_count": 0,
      "outputs": []
    }
  ]
}